{
 "cells": [
  {
   "cell_type": "markdown",
   "metadata": {
    "application/vnd.databricks.v1+cell": {
     "cellMetadata": {
      "byteLimit": 2048000,
      "rowLimit": 10000
     },
     "inputWidgets": {},
     "nuid": "c9151991-5609-4d3d-bd26-db7569cb12ec",
     "showTitle": false,
     "tableResultSettingsMap": {},
     "title": ""
    }
   },
   "source": [
    "# 🎶 ANÁLISIS Y VISUALIZACIÓN DE DATOS DE SPOTIFY (2018 - 2023)\n",
    "\n",
    "---\n",
    "\n",
    "📌 **Descripción**:  \n",
    "En este proyecto se utilizó **Databricks**, donde primero creé mi *cluster*. También utilicé el portal de **Azure**, en el cual configuré **Storage Account** implementándole el servicio de **Data Lake Storage Gen2** para el almacenamiento de mi *dataset* en formato **CSV**.\n",
    "\n",
    "---\n",
    "\n",
    "📌 **Tecnologías Utilizadas**:\n",
    "- ☁️ **Storage Account** con servicio de **Data Lake Storage Gen2**\n",
    "- 👥 **Microsoft entra ID** (Azure active directory)\n",
    "- 🔒 **Scope Secrets** y **Key Vault**\n",
    "- 🐍 **PySpark** y **Python**\n",
    "- 📊 Librerías **Matplotlib** y **Seaborn**\n",
    "\n",
    "---\n",
    "\n",
    "❓ **PREGUNTAS CLAVE DEL NEGOCIO**\n",
    "\n",
    "🎧 ¿Sabes cuántas horas se escucharon en Spotify entre los años 2018 - 2023?\n",
    "\n",
    "🎶 ¿Sabes cuántas transmisiones hubo entre los años 2020 - 2023?\n",
    "\n",
    "💿 ¿Sabes qué álbumes fueron los más escuchados?\n",
    "\n",
    "🎵 ¿Qué géneros fueron los más escuchados?\n",
    "\n",
    "💳 ¿Qué tipos de plataformas fueron las más utilizadas? (Free vs Premium)\n",
    "\n",
    "🎙️ ¿Qué artista fue el más escuchado por horas?\n",
    "\n",
    "🌎 ¿Cuál fue el top 10 de países que más transmisiones realizaron?\n",
    "\n",
    "🎵 ¿Sabes cuál es el promedio de Tasa de Salto (%) por artistas?\n",
    "\n",
    "---\n",
    "\n",
    "📌 **Filtros Dinámicos**:  \n",
    "Utilice **Widgets** para hacer el análisis más interactivos y flexibles, permitiendo a los usuarios ingresar el año que quieran ver:\n",
    "\n",
    "- **Ingreso de Año**:  \n",
    "  Permite filtrar los datos por un año específico.\n",
    "---"
   ]
  },
  {
   "cell_type": "markdown",
   "metadata": {
    "application/vnd.databricks.v1+cell": {
     "cellMetadata": {},
     "inputWidgets": {},
     "nuid": "21427f9a-47d9-4cd3-ba10-ca2ee2c231e6",
     "showTitle": false,
     "tableResultSettingsMap": {},
     "title": ""
    }
   },
   "source": [
    "### 🔐 OBTENCIÓN DE CREDENCIALES Y AUTENTICACIÓN EN AZURE DATA LAKE\n",
    "---"
   ]
  },
  {
   "cell_type": "code",
   "execution_count": 0,
   "metadata": {
    "application/vnd.databricks.v1+cell": {
     "cellMetadata": {
      "byteLimit": 2048000,
      "rowLimit": 10000
     },
     "inputWidgets": {},
     "nuid": "f72fbc2e-81ff-4952-94d0-75f6f32538ae",
     "showTitle": false,
     "tableResultSettingsMap": {},
     "title": ""
    }
   },
   "outputs": [
    {
     "output_type": "display_data",
     "data": {
      "text/html": [
       "<div class = \"ansiout\">\n",
       "Provides utilities for leveraging secrets within notebooks.\n",
       "Databricks documentation for more info.\n",
       "    <h3></h3><b>get(scope: String, key: String): String</b> -> Gets the string representation of a secret value with scope and key<br /><b>getBytes(scope: String, key: String): byte[]</b> -> Gets the bytes representation of a secret value with scope and key<br /><b>list(scope: String): Seq</b> -> Lists secret metadata for secrets within a scope<br /><b>listScopes: Seq</b> -> Lists secret scopes<br /><br /></div>"
      ]
     },
     "metadata": {},
     "output_type": "display_data"
    }
   ],
   "source": [
    "#Esto nos devuelve comandos para acceder al scope secret y key (Estos fueron configurados anteriormente).\n",
    "dbutils.secrets.help()"
   ]
  },
  {
   "cell_type": "code",
   "execution_count": 0,
   "metadata": {
    "application/vnd.databricks.v1+cell": {
     "cellMetadata": {
      "byteLimit": 2048000,
      "rowLimit": 10000
     },
     "inputWidgets": {},
     "nuid": "ecd00ba4-622b-40eb-a569-0ed22fba794b",
     "showTitle": false,
     "tableResultSettingsMap": {},
     "title": ""
    }
   },
   "outputs": [
    {
     "output_type": "execute_result",
     "data": {
      "text/plain": [
       "[SecretScope(name='spotify-scope')]"
      ]
     },
     "execution_count": 2,
     "metadata": {},
     "output_type": "execute_result"
    }
   ],
   "source": [
    "#Obtenemos el Scope secret\n",
    "dbutils.secrets.listScopes()"
   ]
  },
  {
   "cell_type": "code",
   "execution_count": 0,
   "metadata": {
    "application/vnd.databricks.v1+cell": {
     "cellMetadata": {
      "byteLimit": 2048000,
      "rowLimit": 10000
     },
     "inputWidgets": {},
     "nuid": "a96b3434-da90-4f6f-b7c9-424f20e3d0ac",
     "showTitle": false,
     "tableResultSettingsMap": {},
     "title": ""
    }
   },
   "outputs": [
    {
     "output_type": "execute_result",
     "data": {
      "text/plain": [
       "[SecretMetadata(key='CliendId'),\n",
       " SecretMetadata(key='CliendSecret'),\n",
       " SecretMetadata(key='TenantId')]"
      ]
     },
     "execution_count": 3,
     "metadata": {},
     "output_type": "execute_result"
    }
   ],
   "source": [
    "#Obtenemos el Key secret.\n",
    "dbutils.secrets.list(scope='spotify-scope')"
   ]
  },
  {
   "cell_type": "code",
   "execution_count": 0,
   "metadata": {
    "application/vnd.databricks.v1+cell": {
     "cellMetadata": {
      "byteLimit": 2048000,
      "rowLimit": 10000
     },
     "inputWidgets": {},
     "nuid": "9a0a1e42-8f0b-49c6-b0b7-3910860bad23",
     "showTitle": false,
     "tableResultSettingsMap": {},
     "title": ""
    }
   },
   "outputs": [
    {
     "output_type": "execute_result",
     "data": {
      "text/plain": [
       "'[REDACTED]'"
      ]
     },
     "execution_count": 4,
     "metadata": {},
     "output_type": "execute_result"
    }
   ],
   "source": [
    "# verdificamos que se hayan guardado mediante el get.\n",
    "dbutils.secrets.get(scope='spotify-scope', key='CliendId')"
   ]
  },
  {
   "cell_type": "code",
   "execution_count": 0,
   "metadata": {
    "application/vnd.databricks.v1+cell": {
     "cellMetadata": {
      "byteLimit": 2048000,
      "rowLimit": 10000
     },
     "inputWidgets": {},
     "nuid": "70c31bd6-6c77-47ae-ac19-51b982f947f8",
     "showTitle": false,
     "tableResultSettingsMap": {},
     "title": ""
    }
   },
   "outputs": [
    {
     "output_type": "execute_result",
     "data": {
      "text/plain": [
       "'[REDACTED]'"
      ]
     },
     "execution_count": 5,
     "metadata": {},
     "output_type": "execute_result"
    }
   ],
   "source": [
    "dbutils.secrets.get(scope='spotify-scope', key='TenantId')"
   ]
  },
  {
   "cell_type": "code",
   "execution_count": 0,
   "metadata": {
    "application/vnd.databricks.v1+cell": {
     "cellMetadata": {
      "byteLimit": 2048000,
      "rowLimit": 10000
     },
     "inputWidgets": {},
     "nuid": "8a60e5bf-a852-4b3d-96ce-931228b6128c",
     "showTitle": false,
     "tableResultSettingsMap": {},
     "title": ""
    }
   },
   "outputs": [
    {
     "output_type": "execute_result",
     "data": {
      "text/plain": [
       "'[REDACTED]'"
      ]
     },
     "execution_count": 6,
     "metadata": {},
     "output_type": "execute_result"
    }
   ],
   "source": [
    "dbutils.secrets.get(scope='spotify-scope', key='CliendSecret')"
   ]
  },
  {
   "cell_type": "code",
   "execution_count": 0,
   "metadata": {
    "application/vnd.databricks.v1+cell": {
     "cellMetadata": {
      "byteLimit": 2048000,
      "rowLimit": 10000
     },
     "inputWidgets": {},
     "nuid": "d780d1c9-cb6b-4aa3-a1ef-e5bfd6a76183",
     "showTitle": false,
     "tableResultSettingsMap": {},
     "title": ""
    }
   },
   "outputs": [],
   "source": [
    "#Guardamos nuestras credenciales.\n",
    "cliend_id=dbutils.secrets.get(scope='spotify-scope', key='CliendId')\n",
    "tenant_id=dbutils.secrets.get(scope='spotify-scope', key='TenantId')\n",
    "cliend_secret=dbutils.secrets.get(scope='spotify-scope', key='CliendSecret')"
   ]
  },
  {
   "cell_type": "code",
   "execution_count": 0,
   "metadata": {
    "application/vnd.databricks.v1+cell": {
     "cellMetadata": {
      "byteLimit": 2048000,
      "rowLimit": 10000
     },
     "inputWidgets": {},
     "nuid": "0fe34a5d-f777-4c52-890c-6a019ad609f3",
     "showTitle": false,
     "tableResultSettingsMap": {},
     "title": ""
    }
   },
   "outputs": [],
   "source": [
    "#Nos conectamos a Azure Data Lake Storage.\n",
    "spark.conf.set(\"fs.azure.account.auth.type.storagespotify2024.dfs.core.windows.net\", \"OAuth\")\n",
    "spark.conf.set(\"fs.azure.account.oauth.provider.type.storagespotify2024.dfs.core.windows.net\", \"org.apache.hadoop.fs.azurebfs.oauth2.ClientCredsTokenProvider\")\n",
    "spark.conf.set(\"fs.azure.account.oauth2.client.id.storagespotify2024.dfs.core.windows.net\", cliend_id)\n",
    "spark.conf.set(\"fs.azure.account.oauth2.client.secret.storagespotify2024.dfs.core.windows.net\", cliend_secret)\n",
    "spark.conf.set(\"fs.azure.account.oauth2.client.endpoint.storagespotify2024.dfs.core.windows.net\", f\"https://login.microsoftonline.com/{tenant_id}/oauth2/token\")"
   ]
  },
  {
   "cell_type": "markdown",
   "metadata": {
    "application/vnd.databricks.v1+cell": {
     "cellMetadata": {
      "byteLimit": 2048000,
      "rowLimit": 10000
     },
     "inputWidgets": {},
     "nuid": "8d30d22f-d8b3-4aab-9bb4-ab5f645a9cc1",
     "showTitle": false,
     "tableResultSettingsMap": {},
     "title": ""
    }
   },
   "source": [
    "### 🗂️ Estructura de Azure Blob File System (ABFS)\n",
    "\n",
    "---\n",
    "Para entender mejor aqui dejo como usar su estructura cuando ya tengan creado su contenedor y su storage account\n",
    "\n",
    "📄 **Formato General:  abfs[s]://nombre_del_contenedor@nombre_del_Storage_account.core.windows.net/**\n",
    "\n",
    "\n"
   ]
  },
  {
   "cell_type": "code",
   "execution_count": 0,
   "metadata": {
    "application/vnd.databricks.v1+cell": {
     "cellMetadata": {
      "byteLimit": 2048000,
      "rowLimit": 10000
     },
     "inputWidgets": {},
     "nuid": "b3d41c7e-01cc-4fc3-8dae-94084d40511f",
     "showTitle": false,
     "tableResultSettingsMap": {},
     "title": ""
    }
   },
   "outputs": [
    {
     "output_type": "display_data",
     "data": {
      "text/html": [
       "<style scoped>\n",
       "  .table-result-container {\n",
       "    max-height: 300px;\n",
       "    overflow: auto;\n",
       "  }\n",
       "  table, th, td {\n",
       "    border: 1px solid black;\n",
       "    border-collapse: collapse;\n",
       "  }\n",
       "  th, td {\n",
       "    padding: 5px;\n",
       "  }\n",
       "  th {\n",
       "    text-align: left;\n",
       "  }\n",
       "</style><div class='table-result-container'><table class='table-result'><thead style='background-color: white'><tr><th>path</th><th>name</th><th>size</th><th>modificationTime</th></tr></thead><tbody><tr><td>abfss://file@storagespotify2024.dfs.core.windows.net/Spotify_2024_Global_Streaming_Data.csv</td><td>Spotify_2024_Global_Streaming_Data.csv</td><td>45242</td><td>1744344936000</td></tr></tbody></table></div>"
      ]
     },
     "metadata": {
      "application/vnd.databricks.v1+output": {
       "addedWidgets": {},
       "aggData": [],
       "aggError": "",
       "aggOverflow": false,
       "aggSchema": [],
       "aggSeriesLimitReached": false,
       "aggType": "",
       "arguments": {},
       "columnCustomDisplayInfos": {},
       "data": [
        [
         "abfss://file@storagespotify2024.dfs.core.windows.net/Spotify_2024_Global_Streaming_Data.csv",
         "Spotify_2024_Global_Streaming_Data.csv",
         45242,
         1744344936000
        ]
       ],
       "datasetInfos": [],
       "dbfsResultPath": null,
       "isJsonSchema": true,
       "metadata": {},
       "overflow": false,
       "plotOptions": {
        "customPlotOptions": {},
        "displayType": "table",
        "pivotAggregation": null,
        "pivotColumns": null,
        "xColumns": null,
        "yColumns": null
       },
       "removedWidgets": [],
       "schema": [
        {
         "metadata": "{}",
         "name": "path",
         "type": "\"string\""
        },
        {
         "metadata": "{}",
         "name": "name",
         "type": "\"string\""
        },
        {
         "metadata": "{}",
         "name": "size",
         "type": "\"long\""
        },
        {
         "metadata": "{}",
         "name": "modificationTime",
         "type": "\"long\""
        }
       ],
       "type": "table"
      }
     },
     "output_type": "display_data"
    }
   ],
   "source": [
    "#Reemplazamos los nombres respecto a la estructura anteriormente explicada.\n",
    "display(dbutils.fs.ls('abfss://file@storagespotify2024.dfs.core.windows.net/'))"
   ]
  },
  {
   "cell_type": "code",
   "execution_count": 0,
   "metadata": {
    "application/vnd.databricks.v1+cell": {
     "cellMetadata": {
      "byteLimit": 2048000,
      "rowLimit": 10000
     },
     "inputWidgets": {},
     "nuid": "4ca22778-74e5-4a2f-b54f-e12c6c6e7ff7",
     "showTitle": false,
     "tableResultSettingsMap": {},
     "title": ""
    }
   },
   "outputs": [
    {
     "output_type": "display_data",
     "data": {
      "text/html": [
       "<style scoped>\n",
       "  .table-result-container {\n",
       "    max-height: 300px;\n",
       "    overflow: auto;\n",
       "  }\n",
       "  table, th, td {\n",
       "    border: 1px solid black;\n",
       "    border-collapse: collapse;\n",
       "  }\n",
       "  th, td {\n",
       "    padding: 5px;\n",
       "  }\n",
       "  th {\n",
       "    text-align: left;\n",
       "  }\n",
       "</style><div class='table-result-container'><table class='table-result'><thead style='background-color: white'><tr><th>Country</th><th>Artist</th><th>Album</th><th>Genre</th><th>Release Year</th><th>Monthly Listeners (Millions)</th><th>Total Streams (Millions)</th><th>Total Hours Streamed (Millions)</th><th>Avg Stream Duration (Min)</th><th>Platform Type</th><th>Streams Last 30 Days (Millions)</th><th>Skip Rate (%)</th></tr></thead><tbody><tr><td>Germany</td><td>Taylor Swift</td><td>1989 (Taylor's Version)</td><td>K-pop</td><td>2019</td><td>23.1</td><td>3695.53</td><td>14240.35</td><td>4.28</td><td>Free</td><td>118.51</td><td>2.24</td></tr><tr><td>Brazil</td><td>The Weeknd</td><td>After Hours</td><td>R&B</td><td>2022</td><td>60.6</td><td>2828.16</td><td>11120.44</td><td>3.9</td><td>Premium</td><td>44.87</td><td>23.98</td></tr><tr><td>United States</td><td>Post Malone</td><td>Austin</td><td>Reggaeton</td><td>2023</td><td>42.84</td><td>1425.46</td><td>4177.49</td><td>4.03</td><td>Free</td><td>19.46</td><td>4.77</td></tr><tr><td>Italy</td><td>Ed Sheeran</td><td>Autumn Variations</td><td>K-pop</td><td>2018</td><td>73.24</td><td>2704.33</td><td>12024.08</td><td>3.26</td><td>Premium</td><td>166.05</td><td>25.12</td></tr><tr><td>Italy</td><td>Ed Sheeran</td><td>Autumn Variations</td><td>R&B</td><td>2023</td><td>7.89</td><td>3323.25</td><td>13446.32</td><td>4.47</td><td>Free</td><td>173.43</td><td>15.82</td></tr><tr><td>Sweden</td><td>Billie Eilish</td><td>Happier Than Ever</td><td>Indie</td><td>2019</td><td>37.65</td><td>1087.06</td><td>3298.09</td><td>4.37</td><td>Free</td><td>122.22</td><td>7.67</td></tr><tr><td>France</td><td>Bad Bunny</td><td>Nadie Sabe Lo Que Va a Pasar Mañana</td><td>Rock</td><td>2021</td><td>27.72</td><td>4630.69</td><td>17950.05</td><td>2.94</td><td>Premium</td><td>168.73</td><td>31.26</td></tr><tr><td>France</td><td>Doja Cat</td><td>Scarlet</td><td>Pop</td><td>2020</td><td>40.72</td><td>377.63</td><td>1633.73</td><td>3.63</td><td>Premium</td><td>43.31</td><td>20.47</td></tr><tr><td>Sweden</td><td>Bad Bunny</td><td>Nadie Sabe Lo Que Va a Pasar Mañana</td><td>K-pop</td><td>2019</td><td>25.42</td><td>2828.77</td><td>8558.4</td><td>3.67</td><td>Premium</td><td>73.04</td><td>39.9</td></tr><tr><td>United Kingdom</td><td>Ariana Grande</td><td>Eternal Sunshine</td><td>Rock</td><td>2018</td><td>75.82</td><td>4312.46</td><td>12099.39</td><td>2.82</td><td>Premium</td><td>119.69</td><td>16.01</td></tr></tbody></table></div>"
      ]
     },
     "metadata": {
      "application/vnd.databricks.v1+output": {
       "addedWidgets": {},
       "aggData": [],
       "aggError": "",
       "aggOverflow": false,
       "aggSchema": [],
       "aggSeriesLimitReached": false,
       "aggType": "",
       "arguments": {},
       "columnCustomDisplayInfos": {},
       "data": [
        [
         "Germany",
         "Taylor Swift",
         "1989 (Taylor's Version)",
         "K-pop",
         "2019",
         "23.1",
         "3695.53",
         "14240.35",
         "4.28",
         "Free",
         "118.51",
         "2.24"
        ],
        [
         "Brazil",
         "The Weeknd",
         "After Hours",
         "R&B",
         "2022",
         "60.6",
         "2828.16",
         "11120.44",
         "3.9",
         "Premium",
         "44.87",
         "23.98"
        ],
        [
         "United States",
         "Post Malone",
         "Austin",
         "Reggaeton",
         "2023",
         "42.84",
         "1425.46",
         "4177.49",
         "4.03",
         "Free",
         "19.46",
         "4.77"
        ],
        [
         "Italy",
         "Ed Sheeran",
         "Autumn Variations",
         "K-pop",
         "2018",
         "73.24",
         "2704.33",
         "12024.08",
         "3.26",
         "Premium",
         "166.05",
         "25.12"
        ],
        [
         "Italy",
         "Ed Sheeran",
         "Autumn Variations",
         "R&B",
         "2023",
         "7.89",
         "3323.25",
         "13446.32",
         "4.47",
         "Free",
         "173.43",
         "15.82"
        ],
        [
         "Sweden",
         "Billie Eilish",
         "Happier Than Ever",
         "Indie",
         "2019",
         "37.65",
         "1087.06",
         "3298.09",
         "4.37",
         "Free",
         "122.22",
         "7.67"
        ],
        [
         "France",
         "Bad Bunny",
         "Nadie Sabe Lo Que Va a Pasar Mañana",
         "Rock",
         "2021",
         "27.72",
         "4630.69",
         "17950.05",
         "2.94",
         "Premium",
         "168.73",
         "31.26"
        ],
        [
         "France",
         "Doja Cat",
         "Scarlet",
         "Pop",
         "2020",
         "40.72",
         "377.63",
         "1633.73",
         "3.63",
         "Premium",
         "43.31",
         "20.47"
        ],
        [
         "Sweden",
         "Bad Bunny",
         "Nadie Sabe Lo Que Va a Pasar Mañana",
         "K-pop",
         "2019",
         "25.42",
         "2828.77",
         "8558.4",
         "3.67",
         "Premium",
         "73.04",
         "39.9"
        ],
        [
         "United Kingdom",
         "Ariana Grande",
         "Eternal Sunshine",
         "Rock",
         "2018",
         "75.82",
         "4312.46",
         "12099.39",
         "2.82",
         "Premium",
         "119.69",
         "16.01"
        ]
       ],
       "datasetInfos": [],
       "dbfsResultPath": null,
       "isJsonSchema": true,
       "metadata": {},
       "overflow": false,
       "plotOptions": {
        "customPlotOptions": {},
        "displayType": "table",
        "pivotAggregation": null,
        "pivotColumns": null,
        "xColumns": null,
        "yColumns": null
       },
       "removedWidgets": [],
       "schema": [
        {
         "metadata": "{}",
         "name": "Country",
         "type": "\"string\""
        },
        {
         "metadata": "{}",
         "name": "Artist",
         "type": "\"string\""
        },
        {
         "metadata": "{}",
         "name": "Album",
         "type": "\"string\""
        },
        {
         "metadata": "{}",
         "name": "Genre",
         "type": "\"string\""
        },
        {
         "metadata": "{}",
         "name": "Release Year",
         "type": "\"string\""
        },
        {
         "metadata": "{}",
         "name": "Monthly Listeners (Millions)",
         "type": "\"string\""
        },
        {
         "metadata": "{}",
         "name": "Total Streams (Millions)",
         "type": "\"string\""
        },
        {
         "metadata": "{}",
         "name": "Total Hours Streamed (Millions)",
         "type": "\"string\""
        },
        {
         "metadata": "{}",
         "name": "Avg Stream Duration (Min)",
         "type": "\"string\""
        },
        {
         "metadata": "{}",
         "name": "Platform Type",
         "type": "\"string\""
        },
        {
         "metadata": "{}",
         "name": "Streams Last 30 Days (Millions)",
         "type": "\"string\""
        },
        {
         "metadata": "{}",
         "name": "Skip Rate (%)",
         "type": "\"string\""
        }
       ],
       "type": "table"
      }
     },
     "output_type": "display_data"
    }
   ],
   "source": [
    "#Llamamos a nuestro archivo y lo guardamos en un dataframe.\n",
    "spotify_df=spark.read.option('header',True).csv('abfss://file@storagespotify2024.dfs.core.windows.net/Spotify_2024_Global_Streaming_Data.csv')\n",
    "display(spotify_df.limit(10))\n"
   ]
  },
  {
   "cell_type": "code",
   "execution_count": 0,
   "metadata": {
    "application/vnd.databricks.v1+cell": {
     "cellMetadata": {
      "byteLimit": 2048000,
      "rowLimit": 10000
     },
     "inputWidgets": {},
     "nuid": "9c97725c-f5a8-4ff1-a5b7-d3e5405b3500",
     "showTitle": false,
     "tableResultSettingsMap": {},
     "title": ""
    }
   },
   "outputs": [
    {
     "output_type": "display_data",
     "data": {
      "text/html": [
       "<style scoped>\n",
       "  .table-result-container {\n",
       "    max-height: 300px;\n",
       "    overflow: auto;\n",
       "  }\n",
       "  table, th, td {\n",
       "    border: 1px solid black;\n",
       "    border-collapse: collapse;\n",
       "  }\n",
       "  th, td {\n",
       "    padding: 5px;\n",
       "  }\n",
       "  th {\n",
       "    text-align: left;\n",
       "  }\n",
       "</style><div class='table-result-container'><table class='table-result'><thead style='background-color: white'><tr><th>Pais</th><th>Artista</th><th>Album</th><th>Genero</th><th>Año</th><th>Oyentes_mensuales_(millones)</th><th>Total_de_transmisiones_(millones)</th><th>Millones_de_horas_escuchadas</th><th>Duracion_promedio_de_escucha_en_minutos</th><th>Plataforma</th><th>Transmisiones_de_los_últimos_30_días_(millones)</th><th>Tasa_de_salto_%</th></tr></thead><tbody><tr><td>Germany</td><td>Taylor Swift</td><td>1989 (Taylor's Version)</td><td>K-pop</td><td>2019</td><td>23.1</td><td>3695.53</td><td>14240.35</td><td>4.28</td><td>Free</td><td>118.51</td><td>2.24</td></tr><tr><td>Brazil</td><td>The Weeknd</td><td>After Hours</td><td>R&B</td><td>2022</td><td>60.6</td><td>2828.16</td><td>11120.44</td><td>3.9</td><td>Premium</td><td>44.87</td><td>23.98</td></tr><tr><td>United States</td><td>Post Malone</td><td>Austin</td><td>Reggaeton</td><td>2023</td><td>42.84</td><td>1425.46</td><td>4177.49</td><td>4.03</td><td>Free</td><td>19.46</td><td>4.77</td></tr><tr><td>Italy</td><td>Ed Sheeran</td><td>Autumn Variations</td><td>K-pop</td><td>2018</td><td>73.24</td><td>2704.33</td><td>12024.08</td><td>3.26</td><td>Premium</td><td>166.05</td><td>25.12</td></tr><tr><td>Italy</td><td>Ed Sheeran</td><td>Autumn Variations</td><td>R&B</td><td>2023</td><td>7.89</td><td>3323.25</td><td>13446.32</td><td>4.47</td><td>Free</td><td>173.43</td><td>15.82</td></tr><tr><td>Sweden</td><td>Billie Eilish</td><td>Happier Than Ever</td><td>Indie</td><td>2019</td><td>37.65</td><td>1087.06</td><td>3298.09</td><td>4.37</td><td>Free</td><td>122.22</td><td>7.67</td></tr><tr><td>France</td><td>Bad Bunny</td><td>Nadie Sabe Lo Que Va a Pasar Mañana</td><td>Rock</td><td>2021</td><td>27.72</td><td>4630.69</td><td>17950.05</td><td>2.94</td><td>Premium</td><td>168.73</td><td>31.26</td></tr><tr><td>France</td><td>Doja Cat</td><td>Scarlet</td><td>Pop</td><td>2020</td><td>40.72</td><td>377.63</td><td>1633.73</td><td>3.63</td><td>Premium</td><td>43.31</td><td>20.47</td></tr><tr><td>Sweden</td><td>Bad Bunny</td><td>Nadie Sabe Lo Que Va a Pasar Mañana</td><td>K-pop</td><td>2019</td><td>25.42</td><td>2828.77</td><td>8558.4</td><td>3.67</td><td>Premium</td><td>73.04</td><td>39.9</td></tr><tr><td>United Kingdom</td><td>Ariana Grande</td><td>Eternal Sunshine</td><td>Rock</td><td>2018</td><td>75.82</td><td>4312.46</td><td>12099.39</td><td>2.82</td><td>Premium</td><td>119.69</td><td>16.01</td></tr></tbody></table></div>"
      ]
     },
     "metadata": {
      "application/vnd.databricks.v1+output": {
       "addedWidgets": {},
       "aggData": [],
       "aggError": "",
       "aggOverflow": false,
       "aggSchema": [],
       "aggSeriesLimitReached": false,
       "aggType": "",
       "arguments": {},
       "columnCustomDisplayInfos": {},
       "data": [
        [
         "Germany",
         "Taylor Swift",
         "1989 (Taylor's Version)",
         "K-pop",
         "2019",
         "23.1",
         "3695.53",
         "14240.35",
         "4.28",
         "Free",
         "118.51",
         "2.24"
        ],
        [
         "Brazil",
         "The Weeknd",
         "After Hours",
         "R&B",
         "2022",
         "60.6",
         "2828.16",
         "11120.44",
         "3.9",
         "Premium",
         "44.87",
         "23.98"
        ],
        [
         "United States",
         "Post Malone",
         "Austin",
         "Reggaeton",
         "2023",
         "42.84",
         "1425.46",
         "4177.49",
         "4.03",
         "Free",
         "19.46",
         "4.77"
        ],
        [
         "Italy",
         "Ed Sheeran",
         "Autumn Variations",
         "K-pop",
         "2018",
         "73.24",
         "2704.33",
         "12024.08",
         "3.26",
         "Premium",
         "166.05",
         "25.12"
        ],
        [
         "Italy",
         "Ed Sheeran",
         "Autumn Variations",
         "R&B",
         "2023",
         "7.89",
         "3323.25",
         "13446.32",
         "4.47",
         "Free",
         "173.43",
         "15.82"
        ],
        [
         "Sweden",
         "Billie Eilish",
         "Happier Than Ever",
         "Indie",
         "2019",
         "37.65",
         "1087.06",
         "3298.09",
         "4.37",
         "Free",
         "122.22",
         "7.67"
        ],
        [
         "France",
         "Bad Bunny",
         "Nadie Sabe Lo Que Va a Pasar Mañana",
         "Rock",
         "2021",
         "27.72",
         "4630.69",
         "17950.05",
         "2.94",
         "Premium",
         "168.73",
         "31.26"
        ],
        [
         "France",
         "Doja Cat",
         "Scarlet",
         "Pop",
         "2020",
         "40.72",
         "377.63",
         "1633.73",
         "3.63",
         "Premium",
         "43.31",
         "20.47"
        ],
        [
         "Sweden",
         "Bad Bunny",
         "Nadie Sabe Lo Que Va a Pasar Mañana",
         "K-pop",
         "2019",
         "25.42",
         "2828.77",
         "8558.4",
         "3.67",
         "Premium",
         "73.04",
         "39.9"
        ],
        [
         "United Kingdom",
         "Ariana Grande",
         "Eternal Sunshine",
         "Rock",
         "2018",
         "75.82",
         "4312.46",
         "12099.39",
         "2.82",
         "Premium",
         "119.69",
         "16.01"
        ]
       ],
       "datasetInfos": [],
       "dbfsResultPath": null,
       "isJsonSchema": true,
       "metadata": {},
       "overflow": false,
       "plotOptions": {
        "customPlotOptions": {},
        "displayType": "table",
        "pivotAggregation": null,
        "pivotColumns": null,
        "xColumns": null,
        "yColumns": null
       },
       "removedWidgets": [],
       "schema": [
        {
         "metadata": "{}",
         "name": "Pais",
         "type": "\"string\""
        },
        {
         "metadata": "{}",
         "name": "Artista",
         "type": "\"string\""
        },
        {
         "metadata": "{}",
         "name": "Album",
         "type": "\"string\""
        },
        {
         "metadata": "{}",
         "name": "Genero",
         "type": "\"string\""
        },
        {
         "metadata": "{}",
         "name": "Año",
         "type": "\"string\""
        },
        {
         "metadata": "{}",
         "name": "Oyentes_mensuales_(millones)",
         "type": "\"string\""
        },
        {
         "metadata": "{}",
         "name": "Total_de_transmisiones_(millones)",
         "type": "\"string\""
        },
        {
         "metadata": "{}",
         "name": "Millones_de_horas_escuchadas",
         "type": "\"string\""
        },
        {
         "metadata": "{}",
         "name": "Duracion_promedio_de_escucha_en_minutos",
         "type": "\"string\""
        },
        {
         "metadata": "{}",
         "name": "Plataforma",
         "type": "\"string\""
        },
        {
         "metadata": "{}",
         "name": "Transmisiones_de_los_últimos_30_días_(millones)",
         "type": "\"string\""
        },
        {
         "metadata": "{}",
         "name": "Tasa_de_salto_%",
         "type": "\"string\""
        }
       ],
       "type": "table"
      }
     },
     "output_type": "display_data"
    }
   ],
   "source": [
    "#Traducimos los nombres de las columnas de nuesto dataframe.\n",
    "spotify_rename_df=spotify_df.withColumnRenamed('Country', 'Pais') \\\n",
    "    .withColumnRenamed('Artist', 'Artista') \\\n",
    "    .withColumnRenamed('Album', 'Album') \\\n",
    "    .withColumnRenamed('Genre', 'Genero') \\\n",
    "    .withColumnRenamed('Release Year', 'Año') \\\n",
    "    .withColumnRenamed('Monthly Listeners (Millions)', 'Oyentes_mensuales_(millones)') \\\n",
    "    .withColumnRenamed('Total Streams (Millions)', 'Total_de_transmisiones_(millones)') \\\n",
    "    .withColumnRenamed('Total Hours Streamed (Millions)', 'Millones_de_horas_escuchadas') \\\n",
    "    .withColumnRenamed('Avg Stream Duration (Min)', 'Duracion_promedio_de_escucha_en_minutos') \\\n",
    "    .withColumnRenamed('Platform Type', 'Plataforma') \\\n",
    "    .withColumnRenamed('Streams Last 30 Days (Millions)', 'Transmisiones_de_los_últimos_30_días_(millones)') \\\n",
    "    .withColumnRenamed('Skip Rate (%)', 'Tasa_de_salto_%')\n",
    "\n",
    "display(spotify_rename_df.limit(10))"
   ]
  },
  {
   "cell_type": "markdown",
   "metadata": {
    "application/vnd.databricks.v1+cell": {
     "cellMetadata": {
      "byteLimit": 2048000,
      "rowLimit": 10000
     },
     "inputWidgets": {},
     "nuid": "6d388c29-93b3-4d66-993f-fa863b1a899e",
     "showTitle": false,
     "tableResultSettingsMap": {},
     "title": ""
    }
   },
   "source": [
    "###¿SABES CUÁNTAS HORAS SE ESCUCHARON EN SPOTIFY ENTRE LOS AÑOS 2018 - 2023? 🎧\n",
    "---"
   ]
  },
  {
   "cell_type": "code",
   "execution_count": 0,
   "metadata": {
    "application/vnd.databricks.v1+cell": {
     "cellMetadata": {
      "byteLimit": 2048000,
      "rowLimit": 10000
     },
     "inputWidgets": {},
     "nuid": "ab4a74ce-5bee-4e74-b902-b14ff9b427b8",
     "showTitle": false,
     "tableResultSettingsMap": {},
     "title": ""
    }
   },
   "outputs": [],
   "source": [
    "#Librerias importadas.\n",
    "import matplotlib.pyplot as plt\n",
    "import seaborn as sns"
   ]
  },
  {
   "cell_type": "code",
   "execution_count": 0,
   "metadata": {
    "application/vnd.databricks.v1+cell": {
     "cellMetadata": {
      "byteLimit": 2048000,
      "rowLimit": 10000
     },
     "inputWidgets": {},
     "nuid": "ec3883ac-235a-4e0e-a4b2-733e451f02eb",
     "showTitle": false,
     "tableResultSettingsMap": {},
     "title": ""
    }
   },
   "outputs": [
    {
     "output_type": "display_data",
     "data": {
      "text/html": [
       "<style scoped>\n",
       "  .table-result-container {\n",
       "    max-height: 300px;\n",
       "    overflow: auto;\n",
       "  }\n",
       "  table, th, td {\n",
       "    border: 1px solid black;\n",
       "    border-collapse: collapse;\n",
       "  }\n",
       "  th, td {\n",
       "    padding: 5px;\n",
       "  }\n",
       "  th {\n",
       "    text-align: left;\n",
       "  }\n",
       "</style><div class='table-result-container'><table class='table-result'><thead style='background-color: white'><tr><th>Año</th><th>Horas_escuchadas</th></tr></thead><tbody><tr><td>2018</td><td>673150.07</td></tr><tr><td>2019</td><td>775743.97</td></tr><tr><td>2020</td><td>713329.4</td></tr><tr><td>2021</td><td>806878.91</td></tr><tr><td>2022</td><td>823165.02</td></tr><tr><td>2023</td><td>684917.07</td></tr></tbody></table></div>"
      ]
     },
     "metadata": {
      "application/vnd.databricks.v1+output": {
       "addedWidgets": {},
       "aggData": [],
       "aggError": "",
       "aggOverflow": false,
       "aggSchema": [],
       "aggSeriesLimitReached": false,
       "aggType": "",
       "arguments": {},
       "columnCustomDisplayInfos": {},
       "data": [
        [
         "2018",
         673150.07
        ],
        [
         "2019",
         775743.97
        ],
        [
         "2020",
         713329.4
        ],
        [
         "2021",
         806878.91
        ],
        [
         "2022",
         823165.02
        ],
        [
         "2023",
         684917.07
        ]
       ],
       "datasetInfos": [],
       "dbfsResultPath": null,
       "isJsonSchema": true,
       "metadata": {},
       "overflow": false,
       "plotOptions": {
        "customPlotOptions": {},
        "displayType": "table",
        "pivotAggregation": null,
        "pivotColumns": null,
        "xColumns": null,
        "yColumns": null
       },
       "removedWidgets": [],
       "schema": [
        {
         "metadata": "{}",
         "name": "Año",
         "type": "\"string\""
        },
        {
         "metadata": "{}",
         "name": "Horas_escuchadas",
         "type": "\"double\""
        }
       ],
       "type": "table"
      }
     },
     "output_type": "display_data"
    }
   ],
   "source": [
    "#Obtenemos el total de horas escuchadas por año.\n",
    "from pyspark.sql.functions import sum, round, col\n",
    "\n",
    "año_df = spotify_rename_df \\\n",
    "    .groupBy('Año') \\\n",
    "    .agg(round(sum('Millones_de_horas_escuchadas'), 2).alias('Horas_escuchadas')).orderBy('Año', ascending=True)\n",
    "\n",
    "display(año_df)"
   ]
  },
  {
   "cell_type": "code",
   "execution_count": 0,
   "metadata": {
    "application/vnd.databricks.v1+cell": {
     "cellMetadata": {
      "byteLimit": 2048000,
      "rowLimit": 10000
     },
     "inputWidgets": {},
     "nuid": "67075f93-054f-457b-b4e3-e476be87fa53",
     "showTitle": false,
     "tableResultSettingsMap": {},
     "title": ""
    }
   },
   "outputs": [
    {
     "output_type": "display_data",
     "data": {
      "image/png": "[encoded data removed]",
      "text/plain": [
       "<Figure size 1000x600 with 1 Axes>"
      ]
     },
     "metadata": {},
     "output_type": "display_data"
    }
   ],
   "source": [
    "#Graficamos el total de horas escuchadas atravez de los años.\n",
    "año_df.toPandas().plot(\n",
    "    x='Año', \n",
    "    y='Horas_escuchadas', \n",
    "    marker='o', \n",
    "    figsize=(10, 6),\n",
    "    grid=True\n",
    ")\n",
    "plt.title('HORAS ESCUCHADAS POR AÑO')\n",
    "plt.xlabel('Año')\n",
    "plt.ylabel('Horas')\n",
    "plt.show()"
   ]
  },
  {
   "cell_type": "markdown",
   "metadata": {
    "application/vnd.databricks.v1+cell": {
     "cellMetadata": {
      "byteLimit": 2048000,
      "rowLimit": 10000
     },
     "inputWidgets": {},
     "nuid": "ff5bb297-1bb3-456b-8a44-ee602906e746",
     "showTitle": false,
     "tableResultSettingsMap": {},
     "title": ""
    }
   },
   "source": [
    "###¿SABES CUÁNTAS TRANSMISIONES HUBO ENTRE LOS AÑOS 2020 - 2023? 🎶\n",
    "---\n"
   ]
  },
  {
   "cell_type": "code",
   "execution_count": 0,
   "metadata": {
    "application/vnd.databricks.v1+cell": {
     "cellMetadata": {
      "byteLimit": 2048000,
      "rowLimit": 10000
     },
     "inputWidgets": {},
     "nuid": "b0d3d474-aa07-4888-89e7-83ac81ad457a",
     "showTitle": false,
     "tableResultSettingsMap": {},
     "title": ""
    }
   },
   "outputs": [],
   "source": [
    "from pyspark.sql.functions import sum, round, col"
   ]
  },
  {
   "cell_type": "code",
   "execution_count": 0,
   "metadata": {
    "application/vnd.databricks.v1+cell": {
     "cellMetadata": {
      "byteLimit": 2048000,
      "rowLimit": 10000
     },
     "inputWidgets": {},
     "nuid": "6e7567b3-ab20-4114-8745-e44b3d30d50e",
     "showTitle": false,
     "tableResultSettingsMap": {},
     "title": ""
    }
   },
   "outputs": [
    {
     "output_type": "display_data",
     "data": {
      "text/html": [
       "<style scoped>\n",
       "  .table-result-container {\n",
       "    max-height: 300px;\n",
       "    overflow: auto;\n",
       "  }\n",
       "  table, th, td {\n",
       "    border: 1px solid black;\n",
       "    border-collapse: collapse;\n",
       "  }\n",
       "  th, td {\n",
       "    padding: 5px;\n",
       "  }\n",
       "  th {\n",
       "    text-align: left;\n",
       "  }\n",
       "</style><div class='table-result-container'><table class='table-result'><thead style='background-color: white'><tr><th>Año</th><th>transmisiones</th></tr></thead><tbody><tr><td>2023</td><td>194776.0</td></tr><tr><td>2022</td><td>245756.0</td></tr><tr><td>2021</td><td>230984.0</td></tr><tr><td>2020</td><td>208337.0</td></tr><tr><td>2019</td><td>218899.0</td></tr><tr><td>2018</td><td>191826.0</td></tr></tbody></table></div>"
      ]
     },
     "metadata": {
      "application/vnd.databricks.v1+output": {
       "addedWidgets": {},
       "aggData": [],
       "aggError": "",
       "aggOverflow": false,
       "aggSchema": [],
       "aggSeriesLimitReached": false,
       "aggType": "",
       "arguments": {},
       "columnCustomDisplayInfos": {},
       "data": [
        [
         "2023",
         194776.0
        ],
        [
         "2022",
         245756.0
        ],
        [
         "2021",
         230984.0
        ],
        [
         "2020",
         208337.0
        ],
        [
         "2019",
         218899.0
        ],
        [
         "2018",
         191826.0
        ]
       ],
       "datasetInfos": [],
       "dbfsResultPath": null,
       "isJsonSchema": true,
       "metadata": {},
       "overflow": false,
       "plotOptions": {
        "customPlotOptions": {},
        "displayType": "table",
        "pivotAggregation": null,
        "pivotColumns": null,
        "xColumns": null,
        "yColumns": null
       },
       "removedWidgets": [],
       "schema": [
        {
         "metadata": "{}",
         "name": "Año",
         "type": "\"string\""
        },
        {
         "metadata": "{}",
         "name": "transmisiones",
         "type": "\"double\""
        }
       ],
       "type": "table"
      }
     },
     "output_type": "display_data"
    }
   ],
   "source": [
    "#Obtenemos el total de transmisiones por año.\n",
    "transmisiones_df = spotify_rename_df \\\n",
    "    .groupBy('Año') \\\n",
    "    .agg(round(sum('Total_de_transmisiones_(millones)'), 0).alias('transmisiones')).orderBy('Año', ascending=False)\n",
    "\n",
    "display(transmisiones_df)"
   ]
  },
  {
   "cell_type": "code",
   "execution_count": 0,
   "metadata": {
    "application/vnd.databricks.v1+cell": {
     "cellMetadata": {
      "byteLimit": 2048000,
      "rowLimit": 10000
     },
     "inputWidgets": {},
     "nuid": "c79d7a72-d15d-4e18-8e01-fc5c4488fbb1",
     "showTitle": false,
     "tableResultSettingsMap": {},
     "title": ""
    }
   },
   "outputs": [
    {
     "output_type": "display_data",
     "data": {
      "image/png": "[encoded data removed]",
      "text/plain": [
       "<Figure size 1000x600 with 1 Axes>"
      ]
     },
     "metadata": {},
     "output_type": "display_data"
    }
   ],
   "source": [
    "#Graficamos en barra horizontal el total de transmisiones por año.\n",
    "transmisiones_df.toPandas().plot(kind='barh', x='Año', y='transmisiones', figsize=(10, 6))\n",
    "plt.xlabel('Transmisiones')\n",
    "plt.ylabel('Año')\n",
    "plt.title('TRANSMISIONES POR AÑO')\n",
    "plt.show()"
   ]
  },
  {
   "cell_type": "markdown",
   "metadata": {
    "application/vnd.databricks.v1+cell": {
     "cellMetadata": {
      "byteLimit": 2048000,
      "rowLimit": 10000
     },
     "inputWidgets": {},
     "nuid": "957e5abb-f887-4eb0-8af2-5909d59bfc26",
     "showTitle": false,
     "tableResultSettingsMap": {},
     "title": ""
    }
   },
   "source": [
    "### 📅 IMPLEMENTACIÓN DE WIDGETS PARA SELECCIÓN DE AÑO\n",
    "---\n",
    "📨 Incorporamos un widget que permita ingresar el año de forma dinámica entre los años 2018 al 2023, facilitando el ajuste de los análisis y reduciendo la complejidad del codigo.\n"
   ]
  },
  {
   "cell_type": "code",
   "execution_count": 0,
   "metadata": {
    "application/vnd.databricks.v1+cell": {
     "cellMetadata": {
      "byteLimit": 2048000,
      "rowLimit": 10000
     },
     "inputWidgets": {},
     "nuid": "be6cbabb-9d92-4a0b-9d47-a75ac2fbddd4",
     "showTitle": false,
     "tableResultSettingsMap": {},
     "title": ""
    }
   },
   "outputs": [],
   "source": [
    "# Crear un widget para ingresar el año.\n",
    "dbutils.widgets.text(\"Año\", \"Escriba el Año\")\n",
    "\n",
    "# Guardar el valor del widget en una variable.\n",
    "año_recibido = dbutils.widgets.get(\"Año\")"
   ]
  },
  {
   "cell_type": "markdown",
   "metadata": {
    "application/vnd.databricks.v1+cell": {
     "cellMetadata": {
      "byteLimit": 2048000,
      "rowLimit": 10000
     },
     "inputWidgets": {},
     "nuid": "e316ce01-ea66-4b32-a4e8-83516e4c3bb0",
     "showTitle": false,
     "tableResultSettingsMap": {},
     "title": ""
    }
   },
   "source": [
    "### 🎵 ¿SABES QUÉ ÁLBUMES FUERON LOS MÁS ESCUCHADOS? 🎵\n",
    "---\n",
    "📅 Para continuar, te recomiendo ingresar un año entre **2018** y **2023** como prueba, para que los gráficos sean más dinámicos. 📈✨\n"
   ]
  },
  {
   "cell_type": "code",
   "execution_count": 0,
   "metadata": {
    "application/vnd.databricks.v1+cell": {
     "cellMetadata": {
      "byteLimit": 2048000,
      "rowLimit": 10000
     },
     "inputWidgets": {},
     "nuid": "6ff12c59-3f41-47e0-8f17-35fa7d722413",
     "showTitle": false,
     "tableResultSettingsMap": {},
     "title": ""
    }
   },
   "outputs": [
    {
     "output_type": "display_data",
     "data": {
      "text/html": [
       "<style scoped>\n",
       "  .table-result-container {\n",
       "    max-height: 300px;\n",
       "    overflow: auto;\n",
       "  }\n",
       "  table, th, td {\n",
       "    border: 1px solid black;\n",
       "    border-collapse: collapse;\n",
       "  }\n",
       "  th, td {\n",
       "    padding: 5px;\n",
       "  }\n",
       "  th {\n",
       "    text-align: left;\n",
       "  }\n",
       "</style><div class='table-result-container'><table class='table-result'><thead style='background-color: white'><tr><th>Album</th><th>Horas_escuchadas</th></tr></thead><tbody><tr><td>BORN PINK</td><td>129878.05</td></tr><tr><td>Nadie Sabe Lo Que Va a Pasar Mañana</td><td>84010.82</td></tr><tr><td>Scarlet</td><td>82292.9</td></tr><tr><td>Austin</td><td>67774.75</td></tr><tr><td>MAÑANA SERÁ BONITO</td><td>66903.05</td></tr><tr><td>For All The Dogs</td><td>55005.23</td></tr><tr><td>Proof</td><td>43244.45</td></tr><tr><td>Guts</td><td>42966.34</td></tr><tr><td>After Hours</td><td>42898.3</td></tr><tr><td>Future Nostalgia</td><td>41893.9</td></tr><tr><td>Eternal Sunshine</td><td>39570.39</td></tr><tr><td>1989 (Taylor's Version)</td><td>38397.29</td></tr><tr><td>Autumn Variations</td><td>33462.62</td></tr><tr><td>Happier Than Ever</td><td>30204.3</td></tr><tr><td>SOS</td><td>8376.52</td></tr></tbody></table></div>"
      ]
     },
     "metadata": {
      "application/vnd.databricks.v1+output": {
       "addedWidgets": {},
       "aggData": [],
       "aggError": "",
       "aggOverflow": false,
       "aggSchema": [],
       "aggSeriesLimitReached": false,
       "aggType": "",
       "arguments": {},
       "columnCustomDisplayInfos": {},
       "data": [
        [
         "BORN PINK",
         129878.05
        ],
        [
         "Nadie Sabe Lo Que Va a Pasar Mañana",
         84010.82
        ],
        [
         "Scarlet",
         82292.9
        ],
        [
         "Austin",
         67774.75
        ],
        [
         "MAÑANA SERÁ BONITO",
         66903.05
        ],
        [
         "For All The Dogs",
         55005.23
        ],
        [
         "Proof",
         43244.45
        ],
        [
         "Guts",
         42966.34
        ],
        [
         "After Hours",
         42898.3
        ],
        [
         "Future Nostalgia",
         41893.9
        ],
        [
         "Eternal Sunshine",
         39570.39
        ],
        [
         "1989 (Taylor's Version)",
         38397.29
        ],
        [
         "Autumn Variations",
         33462.62
        ],
        [
         "Happier Than Ever",
         30204.3
        ],
        [
         "SOS",
         8376.52
        ]
       ],
       "datasetInfos": [],
       "dbfsResultPath": null,
       "isJsonSchema": true,
       "metadata": {},
       "overflow": false,
       "plotOptions": {
        "customPlotOptions": {},
        "displayType": "table",
        "pivotAggregation": null,
        "pivotColumns": null,
        "xColumns": null,
        "yColumns": null
       },
       "removedWidgets": [],
       "schema": [
        {
         "metadata": "{}",
         "name": "Album",
         "type": "\"string\""
        },
        {
         "metadata": "{}",
         "name": "Horas_escuchadas",
         "type": "\"double\""
        }
       ],
       "type": "table"
      }
     },
     "output_type": "display_data"
    }
   ],
   "source": [
    "#Los 10 albumes mas escuchados por año.\n",
    "album_df = spotify_rename_df \\\n",
    "    .filter(spotify_rename_df.Año == año_recibido) \\\n",
    "    .groupBy('Album') \\\n",
    "    .agg(round(sum('Millones_de_horas_escuchadas'), 2).alias('Horas_escuchadas')).orderBy('Horas_escuchadas', ascending=False)\n",
    "\n",
    "display(album_df)"
   ]
  },
  {
   "cell_type": "code",
   "execution_count": 0,
   "metadata": {
    "application/vnd.databricks.v1+cell": {
     "cellMetadata": {
      "byteLimit": 2048000,
      "rowLimit": 10000
     },
     "inputWidgets": {},
     "nuid": "89ce187a-41d9-4814-9459-f32fad758921",
     "showTitle": false,
     "tableResultSettingsMap": {},
     "title": ""
    }
   },
   "outputs": [
    {
     "output_type": "display_data",
     "data": {
      "image/png": "[encoded data removed]",
      "text/plain": [
       "<Figure size 640x480 with 2 Axes>"
      ]
     },
     "metadata": {},
     "output_type": "display_data"
    }
   ],
   "source": [
    "#Mapa de calor de los 10 albumes mas escuchados.\n",
    "heamdmap_df=album_df.toPandas().set_index('Album')\n",
    "\n",
    "sns.heatmap(heamdmap_df[['Horas_escuchadas']], cmap='Reds', cbar=True)\n",
    "plt.show()"
   ]
  },
  {
   "cell_type": "markdown",
   "metadata": {
    "application/vnd.databricks.v1+cell": {
     "cellMetadata": {
      "byteLimit": 2048000,
      "rowLimit": 10000
     },
     "inputWidgets": {},
     "nuid": "e40c1ade-16ad-4815-860a-88c82a0bba21",
     "showTitle": false,
     "tableResultSettingsMap": {},
     "title": ""
    }
   },
   "source": [
    "### 🎶 ¿QUÉ GENEROS FUERON LOS MÁS ESCUCHADOS? 🎶\n",
    "---"
   ]
  },
  {
   "cell_type": "code",
   "execution_count": 0,
   "metadata": {
    "application/vnd.databricks.v1+cell": {
     "cellMetadata": {
      "byteLimit": 2048000,
      "rowLimit": 10000
     },
     "inputWidgets": {},
     "nuid": "a8d60a81-b5c1-4b18-b893-86f00ee9a5fa",
     "showTitle": false,
     "tableResultSettingsMap": {},
     "title": ""
    }
   },
   "outputs": [
    {
     "output_type": "display_data",
     "data": {
      "text/html": [
       "<style scoped>\n",
       "  .table-result-container {\n",
       "    max-height: 300px;\n",
       "    overflow: auto;\n",
       "  }\n",
       "  table, th, td {\n",
       "    border: 1px solid black;\n",
       "    border-collapse: collapse;\n",
       "  }\n",
       "  th, td {\n",
       "    padding: 5px;\n",
       "  }\n",
       "  th {\n",
       "    text-align: left;\n",
       "  }\n",
       "</style><div class='table-result-container'><table class='table-result'><thead style='background-color: white'><tr><th>Genero</th><th>Horas_escuchadas</th></tr></thead><tbody><tr><td>EDM</td><td>127808.0</td></tr><tr><td>R&B</td><td>106745.0</td></tr><tr><td>Rock</td><td>86784.0</td></tr><tr><td>K-pop</td><td>84186.0</td></tr><tr><td>Indie</td><td>78070.0</td></tr><tr><td>Pop</td><td>77854.0</td></tr><tr><td>Hip Hop</td><td>77264.0</td></tr><tr><td>Reggaeton</td><td>71001.0</td></tr><tr><td>Classical</td><td>59299.0</td></tr><tr><td>Jazz</td><td>37868.0</td></tr></tbody></table></div>"
      ]
     },
     "metadata": {
      "application/vnd.databricks.v1+output": {
       "addedWidgets": {},
       "aggData": [],
       "aggError": "",
       "aggOverflow": false,
       "aggSchema": [],
       "aggSeriesLimitReached": false,
       "aggType": "",
       "arguments": {},
       "columnCustomDisplayInfos": {},
       "data": [
        [
         "EDM",
         127808.0
        ],
        [
         "R&B",
         106745.0
        ],
        [
         "Rock",
         86784.0
        ],
        [
         "K-pop",
         84186.0
        ],
        [
         "Indie",
         78070.0
        ],
        [
         "Pop",
         77854.0
        ],
        [
         "Hip Hop",
         77264.0
        ],
        [
         "Reggaeton",
         71001.0
        ],
        [
         "Classical",
         59299.0
        ],
        [
         "Jazz",
         37868.0
        ]
       ],
       "datasetInfos": [],
       "dbfsResultPath": null,
       "isJsonSchema": true,
       "metadata": {},
       "overflow": false,
       "plotOptions": {
        "customPlotOptions": {},
        "displayType": "table",
        "pivotAggregation": null,
        "pivotColumns": null,
        "xColumns": null,
        "yColumns": null
       },
       "removedWidgets": [],
       "schema": [
        {
         "metadata": "{}",
         "name": "Genero",
         "type": "\"string\""
        },
        {
         "metadata": "{}",
         "name": "Horas_escuchadas",
         "type": "\"double\""
        }
       ],
       "type": "table"
      }
     },
     "output_type": "display_data"
    }
   ],
   "source": [
    "genero_df = spotify_rename_df \\\n",
    "    .filter(spotify_rename_df.Año == año_recibido) \\\n",
    "    .groupBy('Genero') \\\n",
    "    .agg(round(sum('Millones_de_horas_escuchadas'), 0).alias('Horas_escuchadas')).orderBy('Horas_escuchadas', ascending=False)\n",
    "\n",
    "display(genero_df)"
   ]
  },
  {
   "cell_type": "code",
   "execution_count": 0,
   "metadata": {
    "application/vnd.databricks.v1+cell": {
     "cellMetadata": {
      "byteLimit": 2048000,
      "rowLimit": 10000
     },
     "inputWidgets": {},
     "nuid": "1f7839e6-1d9a-456d-9a05-2e25720c39a9",
     "showTitle": false,
     "tableResultSettingsMap": {},
     "title": ""
    }
   },
   "outputs": [
    {
     "output_type": "display_data",
     "data": {
      "image/png": "[encoded data removed]",
      "text/plain": [
       "<Figure size 1000x600 with 1 Axes>"
      ]
     },
     "metadata": {},
     "output_type": "display_data"
    }
   ],
   "source": [
    "genero_df.toPandas().plot(kind='bar', x='Genero', y='Horas_escuchadas', figsize=(10, 6))\n",
    "plt.xlabel('Genero')\n",
    "plt.ylabel('Horas Escuchadas')\n",
    "plt.title('GENEROS MÁS ESCUCHADOS')\n",
    "plt.show()"
   ]
  },
  {
   "cell_type": "markdown",
   "metadata": {
    "application/vnd.databricks.v1+cell": {
     "cellMetadata": {
      "byteLimit": 2048000,
      "rowLimit": 10000
     },
     "inputWidgets": {},
     "nuid": "8aa330ac-6d23-4b94-b84b-e5e54042a0b6",
     "showTitle": false,
     "tableResultSettingsMap": {},
     "title": ""
    }
   },
   "source": [
    "### 🎶 ¿QUÉ TIPOS DE PLATAFORMAS FUERON LAS MÁS ESCUCHADAS (FREE VS PREMIUM)? 🎶\n",
    "---"
   ]
  },
  {
   "cell_type": "code",
   "execution_count": 0,
   "metadata": {
    "application/vnd.databricks.v1+cell": {
     "cellMetadata": {
      "byteLimit": 2048000,
      "rowLimit": 10000
     },
     "inputWidgets": {},
     "nuid": "c8c56920-2451-4bc1-ad90-a808052a39ea",
     "showTitle": false,
     "tableResultSettingsMap": {},
     "title": ""
    }
   },
   "outputs": [
    {
     "output_type": "display_data",
     "data": {
      "text/html": [
       "<style scoped>\n",
       "  .table-result-container {\n",
       "    max-height: 300px;\n",
       "    overflow: auto;\n",
       "  }\n",
       "  table, th, td {\n",
       "    border: 1px solid black;\n",
       "    border-collapse: collapse;\n",
       "  }\n",
       "  th, td {\n",
       "    padding: 5px;\n",
       "  }\n",
       "  th {\n",
       "    text-align: left;\n",
       "  }\n",
       "</style><div class='table-result-container'><table class='table-result'><thead style='background-color: white'><tr><th>Plataforma</th><th>Horas_escuchadas</th></tr></thead><tbody><tr><td>Free</td><td>449922.0</td></tr><tr><td>Premium</td><td>356957.0</td></tr></tbody></table></div>"
      ]
     },
     "metadata": {
      "application/vnd.databricks.v1+output": {
       "addedWidgets": {},
       "aggData": [],
       "aggError": "",
       "aggOverflow": false,
       "aggSchema": [],
       "aggSeriesLimitReached": false,
       "aggType": "",
       "arguments": {},
       "columnCustomDisplayInfos": {},
       "data": [
        [
         "Free",
         449922.0
        ],
        [
         "Premium",
         356957.0
        ]
       ],
       "datasetInfos": [],
       "dbfsResultPath": null,
       "isJsonSchema": true,
       "metadata": {},
       "overflow": false,
       "plotOptions": {
        "customPlotOptions": {},
        "displayType": "table",
        "pivotAggregation": null,
        "pivotColumns": null,
        "xColumns": null,
        "yColumns": null
       },
       "removedWidgets": [],
       "schema": [
        {
         "metadata": "{}",
         "name": "Plataforma",
         "type": "\"string\""
        },
        {
         "metadata": "{}",
         "name": "Horas_escuchadas",
         "type": "\"double\""
        }
       ],
       "type": "table"
      }
     },
     "output_type": "display_data"
    }
   ],
   "source": [
    "plataforma_df = spotify_rename_df \\\n",
    "    .filter(spotify_rename_df.Año == año_recibido) \\\n",
    "    .groupBy('Plataforma') \\\n",
    "    .agg(round(sum('Millones_de_horas_escuchadas'), 0).alias('Horas_escuchadas')).orderBy('Horas_escuchadas', ascending=False)\n",
    "\n",
    "display(plataforma_df)"
   ]
  },
  {
   "cell_type": "code",
   "execution_count": 0,
   "metadata": {
    "application/vnd.databricks.v1+cell": {
     "cellMetadata": {
      "byteLimit": 2048000,
      "rowLimit": 10000
     },
     "inputWidgets": {},
     "nuid": "d4d1f34d-5630-4631-8a8d-0d55bec32009",
     "showTitle": false,
     "tableResultSettingsMap": {},
     "title": ""
    }
   },
   "outputs": [
    {
     "output_type": "display_data",
     "data": {
      "image/png": "[encoded data removed]",
      "text/plain": [
       "<Figure size 800x800 with 1 Axes>"
      ]
     },
     "metadata": {},
     "output_type": "display_data"
    }
   ],
   "source": [
    "df_pandas = plataforma_df.toPandas()\n",
    "\n",
    "labels = df_pandas['Plataforma']\n",
    "sizes = df_pandas['Horas_escuchadas']\n",
    "\n",
    "# Colores personalizados\n",
    "colors = ['#ff9999', '#66b3ff', '#99ff99', '#ffcc99', '#c2c2f0']\n",
    "explode = [0.1] + [0]*(len(sizes)-1)  \n",
    "\n",
    "# Crear el gráfico\n",
    "plt.figure(figsize=(8, 8))\n",
    "plt.pie(sizes, labels=labels, colors=colors, autopct='%1.1f%%', startangle=140, explode=explode)\n",
    "plt.title('DISTRIBUCIÓN DE HORAS ESCUCHADAS POR PLATAFORMA')\n",
    "plt.show()"
   ]
  },
  {
   "cell_type": "markdown",
   "metadata": {
    "application/vnd.databricks.v1+cell": {
     "cellMetadata": {
      "byteLimit": 2048000,
      "rowLimit": 10000
     },
     "inputWidgets": {},
     "nuid": "8de07222-1f31-494a-aaf0-cc32166fea71",
     "showTitle": false,
     "tableResultSettingsMap": {},
     "title": ""
    }
   },
   "source": [
    "### 🎶 ¿QUÉ ARTISTAS FUE EL MÁS ESCUCHADO POR HORAS? 🎶\n",
    "---"
   ]
  },
  {
   "cell_type": "code",
   "execution_count": 0,
   "metadata": {
    "application/vnd.databricks.v1+cell": {
     "cellMetadata": {
      "byteLimit": 2048000,
      "rowLimit": 10000
     },
     "inputWidgets": {},
     "nuid": "9e341f93-d15d-4630-aca4-60b9594faa8e",
     "showTitle": false,
     "tableResultSettingsMap": {},
     "title": ""
    }
   },
   "outputs": [
    {
     "output_type": "display_data",
     "data": {
      "text/html": [
       "<style scoped>\n",
       "  .table-result-container {\n",
       "    max-height: 300px;\n",
       "    overflow: auto;\n",
       "  }\n",
       "  table, th, td {\n",
       "    border: 1px solid black;\n",
       "    border-collapse: collapse;\n",
       "  }\n",
       "  th, td {\n",
       "    padding: 5px;\n",
       "  }\n",
       "  th {\n",
       "    text-align: left;\n",
       "  }\n",
       "</style><div class='table-result-container'><table class='table-result'><thead style='background-color: white'><tr><th>Artista</th><th>Horas_escuchadas</th></tr></thead><tbody><tr><td>BLACKPINK</td><td>129878.0</td></tr><tr><td>Bad Bunny</td><td>84011.0</td></tr><tr><td>Doja Cat</td><td>82293.0</td></tr><tr><td>Post Malone</td><td>67775.0</td></tr><tr><td>Karol G</td><td>66903.0</td></tr><tr><td>Drake</td><td>55005.0</td></tr><tr><td>BTS</td><td>43244.0</td></tr><tr><td>Olivia Rodrigo</td><td>42966.0</td></tr><tr><td>The Weeknd</td><td>42898.0</td></tr><tr><td>Dua Lipa</td><td>41894.0</td></tr><tr><td>Ariana Grande</td><td>39570.0</td></tr><tr><td>Taylor Swift</td><td>38397.0</td></tr><tr><td>Ed Sheeran</td><td>33463.0</td></tr><tr><td>Billie Eilish</td><td>30204.0</td></tr><tr><td>SZA</td><td>8377.0</td></tr></tbody></table></div>"
      ]
     },
     "metadata": {
      "application/vnd.databricks.v1+output": {
       "addedWidgets": {},
       "aggData": [],
       "aggError": "",
       "aggOverflow": false,
       "aggSchema": [],
       "aggSeriesLimitReached": false,
       "aggType": "",
       "arguments": {},
       "columnCustomDisplayInfos": {},
       "data": [
        [
         "BLACKPINK",
         129878.0
        ],
        [
         "Bad Bunny",
         84011.0
        ],
        [
         "Doja Cat",
         82293.0
        ],
        [
         "Post Malone",
         67775.0
        ],
        [
         "Karol G",
         66903.0
        ],
        [
         "Drake",
         55005.0
        ],
        [
         "BTS",
         43244.0
        ],
        [
         "Olivia Rodrigo",
         42966.0
        ],
        [
         "The Weeknd",
         42898.0
        ],
        [
         "Dua Lipa",
         41894.0
        ],
        [
         "Ariana Grande",
         39570.0
        ],
        [
         "Taylor Swift",
         38397.0
        ],
        [
         "Ed Sheeran",
         33463.0
        ],
        [
         "Billie Eilish",
         30204.0
        ],
        [
         "SZA",
         8377.0
        ]
       ],
       "datasetInfos": [],
       "dbfsResultPath": null,
       "isJsonSchema": true,
       "metadata": {},
       "overflow": false,
       "plotOptions": {
        "customPlotOptions": {},
        "displayType": "table",
        "pivotAggregation": null,
        "pivotColumns": null,
        "xColumns": null,
        "yColumns": null
       },
       "removedWidgets": [],
       "schema": [
        {
         "metadata": "{}",
         "name": "Artista",
         "type": "\"string\""
        },
        {
         "metadata": "{}",
         "name": "Horas_escuchadas",
         "type": "\"double\""
        }
       ],
       "type": "table"
      }
     },
     "output_type": "display_data"
    }
   ],
   "source": [
    "artista_df = spotify_rename_df \\\n",
    "    .filter(spotify_rename_df.Año == año_recibido) \\\n",
    "    .groupBy('Artista') \\\n",
    "    .agg(round(sum('Millones_de_horas_escuchadas'), 0).alias('Horas_escuchadas')).orderBy('Horas_escuchadas', ascending=False)\n",
    "\n",
    "display(artista_df)"
   ]
  },
  {
   "cell_type": "code",
   "execution_count": 0,
   "metadata": {
    "application/vnd.databricks.v1+cell": {
     "cellMetadata": {
      "byteLimit": 2048000,
      "rowLimit": 10000
     },
     "inputWidgets": {},
     "nuid": "1703f501-87b0-4461-bc41-e825531a4f0b",
     "showTitle": false,
     "tableResultSettingsMap": {},
     "title": ""
    }
   },
   "outputs": [
    {
     "output_type": "execute_result",
     "data": {
      "text/plain": [
       "Text(0.5, 1.0, 'ARTISTAS MÁS ESCUCHADOS')"
      ]
     },
     "execution_count": 26,
     "metadata": {},
     "output_type": "execute_result"
    },
    {
     "output_type": "display_data",
     "data": {
      "image/png": "[encoded data removed]",
      "text/plain": [
       "<Figure size 1000x600 with 1 Axes>"
      ]
     },
     "metadata": {},
     "output_type": "display_data"
    }
   ],
   "source": [
    "artista_df.toPandas().plot(kind='bar', x='Artista', y='Horas_escuchadas', figsize=(10, 6))\n",
    "plt.xlabel('Artistas')\n",
    "plt.ylabel('Horas Escuchadas')\n",
    "plt.title('ARTISTAS MÁS ESCUCHADOS')"
   ]
  },
  {
   "cell_type": "markdown",
   "metadata": {
    "application/vnd.databricks.v1+cell": {
     "cellMetadata": {
      "byteLimit": 2048000,
      "rowLimit": 10000
     },
     "inputWidgets": {},
     "nuid": "e729726d-3915-4f53-a596-2987d25ae6f7",
     "showTitle": false,
     "tableResultSettingsMap": {},
     "title": ""
    }
   },
   "source": [
    "### 🎶 ¿CUÁL FUE EL TOP 10 DE PAÍSES CON MÁS TRANSMISIONES REALIZADAS? 🎶\n",
    "---"
   ]
  },
  {
   "cell_type": "code",
   "execution_count": 0,
   "metadata": {
    "application/vnd.databricks.v1+cell": {
     "cellMetadata": {
      "byteLimit": 2048000,
      "rowLimit": 10000
     },
     "inputWidgets": {},
     "nuid": "bc3da226-3c96-4c1b-899a-9e7cb1b89e85",
     "showTitle": false,
     "tableResultSettingsMap": {},
     "title": ""
    }
   },
   "outputs": [
    {
     "output_type": "display_data",
     "data": {
      "text/html": [
       "<style scoped>\n",
       "  .table-result-container {\n",
       "    max-height: 300px;\n",
       "    overflow: auto;\n",
       "  }\n",
       "  table, th, td {\n",
       "    border: 1px solid black;\n",
       "    border-collapse: collapse;\n",
       "  }\n",
       "  th, td {\n",
       "    padding: 5px;\n",
       "  }\n",
       "  th {\n",
       "    text-align: left;\n",
       "  }\n",
       "</style><div class='table-result-container'><table class='table-result'><thead style='background-color: white'><tr><th>Pais</th><th>transmisiones</th></tr></thead><tbody><tr><td>South Korea</td><td>25819.0</td></tr><tr><td>Sweden</td><td>22373.0</td></tr><tr><td>Japan</td><td>19075.0</td></tr><tr><td>Germany</td><td>18044.0</td></tr><tr><td>France</td><td>17627.0</td></tr><tr><td>South Africa</td><td>14530.0</td></tr><tr><td>Brazil</td><td>13514.0</td></tr><tr><td>United Kingdom</td><td>11933.0</td></tr><tr><td>Argentina</td><td>11427.0</td></tr><tr><td>Australia</td><td>11351.0</td></tr></tbody></table></div>"
      ]
     },
     "metadata": {
      "application/vnd.databricks.v1+output": {
       "addedWidgets": {},
       "aggData": [],
       "aggError": "",
       "aggOverflow": false,
       "aggSchema": [],
       "aggSeriesLimitReached": false,
       "aggType": "",
       "arguments": {},
       "columnCustomDisplayInfos": {},
       "data": [
        [
         "South Korea",
         25819.0
        ],
        [
         "Sweden",
         22373.0
        ],
        [
         "Japan",
         19075.0
        ],
        [
         "Germany",
         18044.0
        ],
        [
         "France",
         17627.0
        ],
        [
         "South Africa",
         14530.0
        ],
        [
         "Brazil",
         13514.0
        ],
        [
         "United Kingdom",
         11933.0
        ],
        [
         "Argentina",
         11427.0
        ],
        [
         "Australia",
         11351.0
        ]
       ],
       "datasetInfos": [],
       "dbfsResultPath": null,
       "isJsonSchema": true,
       "metadata": {},
       "overflow": false,
       "plotOptions": {
        "customPlotOptions": {},
        "displayType": "table",
        "pivotAggregation": null,
        "pivotColumns": null,
        "xColumns": null,
        "yColumns": null
       },
       "removedWidgets": [],
       "schema": [
        {
         "metadata": "{}",
         "name": "Pais",
         "type": "\"string\""
        },
        {
         "metadata": "{}",
         "name": "transmisiones",
         "type": "\"double\""
        }
       ],
       "type": "table"
      }
     },
     "output_type": "display_data"
    }
   ],
   "source": [
    "#Obtenemos los 10 paises que mas emisiones realizo en Spotify\n",
    "from pyspark.sql.functions import sum, round, col\n",
    "\n",
    "pais_df = spotify_rename_df \\\n",
    "    .filter(spotify_rename_df.Año == año_recibido) \\\n",
    "    .groupBy('Pais') \\\n",
    "    .agg(round(sum('Total_de_transmisiones_(millones)'), 0).alias('transmisiones')).orderBy('transmisiones', ascending=False).limit(10)\n",
    "\n",
    "display(pais_df)"
   ]
  },
  {
   "cell_type": "code",
   "execution_count": 0,
   "metadata": {
    "application/vnd.databricks.v1+cell": {
     "cellMetadata": {
      "byteLimit": 2048000,
      "rowLimit": 10000
     },
     "inputWidgets": {},
     "nuid": "368dfd98-5820-444b-95a0-e62b9db58040",
     "showTitle": false,
     "tableResultSettingsMap": {},
     "title": ""
    }
   },
   "outputs": [
    {
     "output_type": "display_data",
     "data": {
      "image/png": "[encoded data removed]",
      "text/plain": [
       "<Figure size 640x480 with 1 Axes>"
      ]
     },
     "metadata": {},
     "output_type": "display_data"
    }
   ],
   "source": [
    "\n",
    "# Datos\n",
    "dona=pais_df.toPandas()\n",
    "labels = dona['Pais']\n",
    "sizes = dona['transmisiones']\n",
    "colors = ['#ff9999','#66b3ff','#99ff99','#ffcc99','#c2c2f0']\n",
    "\n",
    "fig, ax = plt.subplots()\n",
    "ax.pie(sizes, labels=labels, colors=colors, wedgeprops={'width':0.4},startangle=120)\n",
    "plt.title('TOP 10 PAISES CON MÁS TRANSMISIONES ')\n",
    "ax.axis('equal')\n",
    "plt.show()"
   ]
  },
  {
   "cell_type": "markdown",
   "metadata": {
    "application/vnd.databricks.v1+cell": {
     "cellMetadata": {
      "byteLimit": 2048000,
      "rowLimit": 10000
     },
     "inputWidgets": {},
     "nuid": "116819e9-9e72-41cd-a840-081fee679559",
     "showTitle": false,
     "tableResultSettingsMap": {},
     "title": ""
    }
   },
   "source": [
    "### 🎵 ¿SABES CUÁL ES EL PROMEDIO **TASA DE SALTO (%)** POR ARTISTAS?\n",
    "---\n",
    "Para entender mejor es el porcentaje de veces que los usuarios comienzan a reproducir una canción 🎶 pero la **saltan** ⏭️ antes de que termine.  \n",
    "Este indicador mide el **nivel de interés** o la **abandonabilidad** de una canción o artista.\n",
    "\n",
    "✅ **Interpretación:**\n",
    "- Una **tasa baja** (👂 menos saltos) indica que los usuarios disfrutan más la música.\n",
    "- Una **tasa alta** (⏭️ muchos saltos) sugiere que la canción podría no estar captando la atención del público.\n",
    "\n"
   ]
  },
  {
   "cell_type": "code",
   "execution_count": 0,
   "metadata": {
    "application/vnd.databricks.v1+cell": {
     "cellMetadata": {
      "byteLimit": 2048000,
      "rowLimit": 10000
     },
     "inputWidgets": {},
     "nuid": "9143115f-9703-4870-a7ae-f3718bc67923",
     "showTitle": false,
     "tableResultSettingsMap": {},
     "title": ""
    }
   },
   "outputs": [
    {
     "output_type": "display_data",
     "data": {
      "text/html": [
       "<style scoped>\n",
       "  .table-result-container {\n",
       "    max-height: 300px;\n",
       "    overflow: auto;\n",
       "  }\n",
       "  table, th, td {\n",
       "    border: 1px solid black;\n",
       "    border-collapse: collapse;\n",
       "  }\n",
       "  th, td {\n",
       "    padding: 5px;\n",
       "  }\n",
       "  th {\n",
       "    text-align: left;\n",
       "  }\n",
       "</style><div class='table-result-container'><table class='table-result'><thead style='background-color: white'><tr><th>Artista</th><th>salto%</th></tr></thead><tbody><tr><td>SZA</td><td>12.0</td></tr><tr><td>BLACKPINK</td><td>16.0</td></tr><tr><td>Karol G</td><td>18.0</td></tr><tr><td>Olivia Rodrigo</td><td>20.0</td></tr><tr><td>Dua Lipa</td><td>21.0</td></tr><tr><td>Billie Eilish</td><td>22.0</td></tr><tr><td>Ed Sheeran</td><td>22.0</td></tr><tr><td>Drake</td><td>23.0</td></tr><tr><td>The Weeknd</td><td>23.0</td></tr><tr><td>Bad Bunny</td><td>24.0</td></tr><tr><td>Post Malone</td><td>25.0</td></tr><tr><td>BTS</td><td>27.0</td></tr><tr><td>Ariana Grande</td><td>28.0</td></tr><tr><td>Doja Cat</td><td>28.0</td></tr><tr><td>Taylor Swift</td><td>30.0</td></tr></tbody></table></div>"
      ]
     },
     "metadata": {
      "application/vnd.databricks.v1+output": {
       "addedWidgets": {},
       "aggData": [],
       "aggError": "",
       "aggOverflow": false,
       "aggSchema": [],
       "aggSeriesLimitReached": false,
       "aggType": "",
       "arguments": {},
       "columnCustomDisplayInfos": {},
       "data": [
        [
         "SZA",
         12.0
        ],
        [
         "BLACKPINK",
         16.0
        ],
        [
         "Karol G",
         18.0
        ],
        [
         "Olivia Rodrigo",
         20.0
        ],
        [
         "Dua Lipa",
         21.0
        ],
        [
         "Billie Eilish",
         22.0
        ],
        [
         "Ed Sheeran",
         22.0
        ],
        [
         "Drake",
         23.0
        ],
        [
         "The Weeknd",
         23.0
        ],
        [
         "Bad Bunny",
         24.0
        ],
        [
         "Post Malone",
         25.0
        ],
        [
         "BTS",
         27.0
        ],
        [
         "Ariana Grande",
         28.0
        ],
        [
         "Doja Cat",
         28.0
        ],
        [
         "Taylor Swift",
         30.0
        ]
       ],
       "datasetInfos": [],
       "dbfsResultPath": null,
       "isJsonSchema": true,
       "metadata": {},
       "overflow": false,
       "plotOptions": {
        "customPlotOptions": {},
        "displayType": "table",
        "pivotAggregation": null,
        "pivotColumns": null,
        "xColumns": null,
        "yColumns": null
       },
       "removedWidgets": [],
       "schema": [
        {
         "metadata": "{}",
         "name": "Artista",
         "type": "\"string\""
        },
        {
         "metadata": "{}",
         "name": "salto%",
         "type": "\"double\""
        }
       ],
       "type": "table"
      }
     },
     "output_type": "display_data"
    }
   ],
   "source": [
    "#Obtenemos los 10 paises que mas emisiones realizo en Spotify\n",
    "from pyspark.sql.functions import sum, round, avg,col\n",
    "\n",
    "salto_df = spotify_rename_df \\\n",
    "    .filter(spotify_rename_df.Año == año_recibido) \\\n",
    "    .groupBy('Artista') \\\n",
    "    .agg(round(avg('Tasa_de_salto_%'),0).alias('salto%')).orderBy('salto%', ascending=True)\n",
    "\n",
    "display(salto_df)"
   ]
  },
  {
   "cell_type": "code",
   "execution_count": 0,
   "metadata": {
    "application/vnd.databricks.v1+cell": {
     "cellMetadata": {
      "byteLimit": 2048000,
      "rowLimit": 10000
     },
     "inputWidgets": {},
     "nuid": "afcc6806-051e-43a1-9fff-9af037524203",
     "showTitle": false,
     "tableResultSettingsMap": {},
     "title": ""
    }
   },
   "outputs": [
    {
     "output_type": "execute_result",
     "data": {
      "text/plain": [
       "Text(0.5, 1.0, 'ARTISTAS CON MÁS SALTOS% EN SUS CANCIONES')"
      ]
     },
     "execution_count": 30,
     "metadata": {},
     "output_type": "execute_result"
    },
    {
     "output_type": "display_data",
     "data": {
      "image/png": "[encoded data removed]",
      "text/plain": [
       "<Figure size 1000x600 with 1 Axes>"
      ]
     },
     "metadata": {},
     "output_type": "display_data"
    }
   ],
   "source": [
    "salto_df.toPandas().plot(kind='barh', x='Artista', y='salto%', figsize=(10, 6),)\n",
    "plt.xlabel('Porcentaje de salto')\n",
    "plt.ylabel('Artistas')\n",
    "plt.title('ARTISTAS CON MÁS SALTOS% EN SUS CANCIONES')\n"
   ]
  },
  {
   "cell_type": "markdown",
   "metadata": {
    "application/vnd.databricks.v1+cell": {
     "cellMetadata": {
      "byteLimit": 2048000,
      "rowLimit": 10000
     },
     "inputWidgets": {},
     "nuid": "671ddbed-5c5a-4d21-b687-6d37aaf2b440",
     "showTitle": false,
     "tableResultSettingsMap": {},
     "title": ""
    }
   },
   "source": [
    "### 🔍INSIGHTS ENCONTRADOS\n",
    "---\n",
    "✅ En 2018 se registró el menor consumo de música en la plataforma, con un total de 673,150.07 millones de horas escuchadas, mientras que en 2022 se alcanzó el nivel más alto, con 823,165.02 millones de horas escuchadas a nivel mundial.\n",
    "\n",
    "✅ El año 2022 también fue el de mayor número de transmisiones a nivel global, alcanzando un total de 245,756 millones de reproducciones.\n",
    "\n",
    "✅ El álbum más escuchado en el año 2020 fue Proof, con un total de 68,901.21 millones de horas escuchadas.\n",
    "\n",
    "✅ En 2019, los géneros más populares por horas escuchadas fueron Classical con 168,340 millones de horas, seguido de K-pop con 129,008 millones. \n",
    "\n",
    "✅ En 2019, el 52.5% de las horas escuchadas provinieron de cuentas Premium (407,527 millones), mientras que el 47.5% correspondió a cuentas Free (368,216 millones).\n",
    "\n",
    "✅ En 2021, el artista más escuchado fue BLACKPINK, con un total de 129,878 millones de horas escuchadas.\n",
    "\n",
    "✅ En el año 2023, los países que realizaron más transmisiones en la plataforma fueron Suecia, con 18,856 millones, y Japón, con 18,556 millones.\n"
   ]
  },
  {
   "cell_type": "markdown",
   "metadata": {
    "application/vnd.databricks.v1+cell": {
     "cellMetadata": {
      "byteLimit": 2048000,
      "rowLimit": 10000
     },
     "inputWidgets": {},
     "nuid": "e0be1d02-2d5d-4f2e-bda5-b9b7ce1b4540",
     "showTitle": false,
     "tableResultSettingsMap": {},
     "title": ""
    }
   },
   "source": [
    "### 📝JUSTIFICACIÓN\n",
    "---\n",
    "El uso de una Storage Account con el servicio de Azure Data Lake Gen2 Storage lo utilicé para almacenar y practicar el uso de este servicio. También implementé Scope Secrets y Key Vault para brindar mayor seguridad en el acceso a mis datos, en este caso protegiendo el archivo CSV.\n",
    "\n",
    "Para finalizar, explicaré por qué utilicé widgets: me parece más dinámico ingresar los años a través de ellos, además de que ayudan a reducir la complejidad del código y se podrian obtener más insights.\n"
   ]
  },
  {
   "cell_type": "markdown",
   "metadata": {
    "application/vnd.databricks.v1+cell": {
     "cellMetadata": {
      "byteLimit": 2048000,
      "rowLimit": 10000
     },
     "inputWidgets": {},
     "nuid": "4698757f-e1a9-4e91-a63f-f1aef1f5f207",
     "showTitle": false,
     "tableResultSettingsMap": {},
     "title": ""
    }
   },
   "source": [
    "###👋 DESPEDIDA\n",
    "---\n",
    "Espero que este proyecto les haya sido útil.\n",
    "Próximamente estaré subiendo nuevos proyectos, donde iré incorporando nuevas ideas.\n",
    "Este trabajo forma parte de mi proceso para seguir fortaleciendo mis habilidades y poner en práctica lo aprendido.\n",
    "\n",
    "¡Los animo a que también creen sus propios proyectos y sigan aprendiendo! 🚀\n",
    "\n"
   ]
  }
 ],
 "metadata": {
  "application/vnd.databricks.v1+notebook": {
   "computePreferences": null,
   "dashboards": [],
   "environmentMetadata": {
    "base_environment": "",
    "environment_version": "2"
   },
   "inputWidgetPreferences": null,
   "language": "python",
   "notebookMetadata": {
    "mostRecentlyExecutedCommandWithImplicitDF": {
     "commandId": -1,
     "dataframes": [
      "_sqldf"
     ]
    },
    "pythonIndentUnit": 4
   },
   "notebookName": "business intelligence",
   "widgets": {
    "Año": {
     "currentValue": "2021",
     "nuid": "6bed991b-71d3-40f0-9a3c-7324ef60946c",
     "typedWidgetInfo": {
      "autoCreated": false,
      "defaultValue": "Escriba el Año",
      "label": null,
      "name": "Año",
      "options": {
       "widgetDisplayType": "Text",
       "validationRegex": null
      },
      "parameterDataType": "String"
     },
     "widgetInfo": {
      "widgetType": "text",
      "defaultValue": "Escriba el Año",
      "label": null,
      "name": "Año",
      "options": {
       "widgetType": "text",
       "autoCreated": null,
       "validationRegex": null
      }
     }
    }
   }
  },
  "language_info": {
   "name": "python"
  }
 },
 "nbformat": 4,
 "nbformat_minor": 0
}